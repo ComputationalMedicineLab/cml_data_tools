{
 "cells": [
  {
   "cell_type": "code",
   "execution_count": 22,
   "id": "yellow-roads",
   "metadata": {},
   "outputs": [],
   "source": [
    "import pickle\n",
    "import logging\n",
    "import numpy as np\n",
    "from cml_data_tools.experiment import _build_std_matrix\n",
    "import pandas as pd\n",
    "import matplotlib.pyplot as plt\n",
    "from scipy.stats import ks_2samp"
   ]
  },
  {
   "cell_type": "code",
   "execution_count": 2,
   "id": "inner-nebraska",
   "metadata": {},
   "outputs": [],
   "source": [
    "with open('/hd1/stilljm/cml_tests/D_05/meta.pkl', 'rb') as file:\n",
    "    meta = pickle.load(file)"
   ]
  },
  {
   "cell_type": "code",
   "execution_count": 3,
   "id": "sensitive-chicago",
   "metadata": {},
   "outputs": [],
   "source": [
    "with open('/hd1/stilljm/cml_tests/D_05/standardizer.pkl', 'rb') as file:\n",
    "    std = pickle.load(file)"
   ]
  },
  {
   "cell_type": "code",
   "execution_count": 4,
   "id": "regular-independence",
   "metadata": {},
   "outputs": [],
   "source": [
    "def stream(file):\n",
    "    while True:\n",
    "        try:\n",
    "            df = pickle.load(file)\n",
    "        except EOFError:\n",
    "            break\n",
    "        else:\n",
    "            yield df"
   ]
  },
  {
   "cell_type": "code",
   "execution_count": 5,
   "id": "chemical-polymer",
   "metadata": {},
   "outputs": [
    {
     "name": "stderr",
     "output_type": "stream",
     "text": [
      "/home/laskota/.conda/envs/ml39/lib/python3.9/site-packages/sklearn/base.py:329: UserWarning: Trying to unpickle estimator FastICA from version 0.23.1 when using version 0.23.2. This might lead to breaking code or invalid results. Use at your own risk.\n",
      "  warnings.warn(\n"
     ]
    }
   ],
   "source": [
    "with open('/hd1/stilljm/cml_tests/D_05/segment_000/model.pkl', 'rb') as file:\n",
    "    model = pickle.load(file)"
   ]
  },
  {
   "cell_type": "code",
   "execution_count": 7,
   "id": "through-evaluation",
   "metadata": {},
   "outputs": [],
   "source": [
    "# with open('/hd1/stilljm/cml_tests/D_05/segment_000/curve_xs.pkl', 'rb') as file:\n",
    "#     # this step takes a while, might save the results\n",
    "#     mat0 = _build_std_matrix(meta, stream(file), std)"
   ]
  },
  {
   "cell_type": "code",
   "execution_count": 11,
   "id": "accompanied-sperm",
   "metadata": {},
   "outputs": [],
   "source": [
    "#  with open('/hd1/tom/tmp/segment_000/std_xs.pkl', 'wb') as f:\n",
    "#             pickle.dump(mat0, f, protocol=pickle.HIGHEST_PROTOCOL)"
   ]
  },
  {
   "cell_type": "code",
   "execution_count": 12,
   "id": "foster-lodge",
   "metadata": {},
   "outputs": [],
   "source": [
    "# with open('/hd1/stilljm/cml_tests/D_05/segment_001/curve_xs.pkl', 'rb') as file:\n",
    "#     # this step takes a while, might save the results\n",
    "#     mat1 = _build_std_matrix(meta, stream(file), std)"
   ]
  },
  {
   "cell_type": "code",
   "execution_count": 13,
   "id": "incorrect-drove",
   "metadata": {},
   "outputs": [],
   "source": [
    "# with open('/hd1/tom/tmp/segment_001/std_xs.pkl', 'wb') as f:\n",
    "#             pickle.dump(mat1, f, protocol=pickle.HIGHEST_PROTOCOL)"
   ]
  },
  {
   "cell_type": "code",
   "execution_count": 6,
   "id": "mental-explanation",
   "metadata": {},
   "outputs": [],
   "source": [
    "with open('/hd1/tom/tmp/segment_000/std_xs.pkl', 'rb') as file:\n",
    "    mat0, std0 = pickle.load(file)"
   ]
  },
  {
   "cell_type": "code",
   "execution_count": 7,
   "id": "guided-deficit",
   "metadata": {},
   "outputs": [],
   "source": [
    "with open('/hd1/tom/tmp/segment_001/std_xs.pkl', 'rb') as file:\n",
    "    mat1, std1 = pickle.load(file)"
   ]
  },
  {
   "cell_type": "code",
   "execution_count": 8,
   "id": "alleged-magazine",
   "metadata": {},
   "outputs": [],
   "source": [
    "# expr0 = model.transform(std0)"
   ]
  },
  {
   "cell_type": "code",
   "execution_count": 9,
   "id": "mobile-chapter",
   "metadata": {},
   "outputs": [],
   "source": [
    "# with open('/hd1/tom/tmp/segment_000/expr0.pkl', 'wb') as file:\n",
    "#     pickle.dump(expr0, file, protocol=pickle.HIGHEST_PROTOCOL)"
   ]
  },
  {
   "cell_type": "code",
   "execution_count": 10,
   "id": "phantom-sterling",
   "metadata": {},
   "outputs": [],
   "source": [
    "# expr1 = model.transform(std1)\n",
    "# with open('/hd1/tom/tmp/segment_000/expr1.pkl', 'wb') as file:\n",
    "#     pickle.dump(expr1, file, protocol=pickle.HIGHEST_PROTOCOL)"
   ]
  },
  {
   "cell_type": "code",
   "execution_count": 11,
   "id": "median-stanley",
   "metadata": {},
   "outputs": [
    {
     "name": "stderr",
     "output_type": "stream",
     "text": [
      "/home/laskota/.conda/envs/ml39/lib/python3.9/site-packages/sklearn/base.py:329: UserWarning: Trying to unpickle estimator FastICA from version 0.23.1 when using version 0.23.2. This might lead to breaking code or invalid results. Use at your own risk.\n",
      "  warnings.warn(\n"
     ]
    }
   ],
   "source": [
    "with open('/hd1/stilljm/cml_tests/D_05/segment_001/model.pkl', 'rb') as file:\n",
    "    model1 = pickle.load(file)\n",
    "expr0 = model1.transform(std0)\n",
    "expr1 = model1.transform(std1)\n",
    "# with open('/hd1/tom/tmp/segment_001/expr0.pkl', 'wb') as file:\n",
    "#     pickle.dump(expr0, file, protocol=pickle.HIGHEST_PROTOCOL)\n",
    "# with open('/hd1/tom/tmp/segment_001/expr1.pkl', 'wb') as file:\n",
    "#     pickle.dump(expr1, file, protocol=pickle.HIGHEST_PROTOCOL)\n",
    "   "
   ]
  },
  {
   "cell_type": "code",
   "execution_count": 71,
   "id": "domestic-forestry",
   "metadata": {},
   "outputs": [
    {
     "data": {
      "text/plain": [
       "[<matplotlib.lines.Line2D at 0x7f882f4bb280>]"
      ]
     },
     "execution_count": 71,
     "metadata": {},
     "output_type": "execute_result"
    },
    {
     "data": {
      "image/png": "[encoded data removed]",
      "text/plain": [
       "<Figure size 432x288 with 1 Axes>"
      ]
     },
     "metadata": {
      "needs_background": "light"
     },
     "output_type": "display_data"
    }
   ],
   "source": [
    "# These should be highly correlated because they're \n",
    "# samples from the same patients in the same order. \n",
    "# But they shouldn't be identical.\n",
    "plt.plot(np.cumsum(expr0['ICA-107']).to_numpy())\n",
    "plt.plot(np.cumsum(expr1['ICA-107']).to_numpy())\n"
   ]
  },
  {
   "cell_type": "code",
   "execution_count": 53,
   "id": "specified-registration",
   "metadata": {},
   "outputs": [
    {
     "data": {
      "text/plain": [
       "[<matplotlib.lines.Line2D at 0x7f8836fd0b50>]"
      ]
     },
     "execution_count": 53,
     "metadata": {},
     "output_type": "execute_result"
    },
    {
     "data": {
      "image/png": "[encoded data removed]",
      "text/plain": [
       "<Figure size 432x288 with 1 Axes>"
      ]
     },
     "metadata": {
      "needs_background": "light"
     },
     "output_type": "display_data"
    }
   ],
   "source": [
    "# These should be very close. \n",
    "# Better than looking at the histogram, because of the large dynamic range of the data\n",
    "plt.plot(np.cumsum(np.sort(expr0['ICA-106'])))\n",
    "plt.plot(np.cumsum(np.sort(expr1['ICA-106'])))\n"
   ]
  },
  {
   "cell_type": "code",
   "execution_count": 72,
   "id": "close-metallic",
   "metadata": {},
   "outputs": [
    {
     "data": {
      "text/plain": [
       "(array([1.61695343e-06, 1.61695343e-06, 1.61695343e-06, 1.61695343e-06,\n",
       "        1.61695343e-06, 3.23390687e-06, 4.85086030e-06, 4.85086030e-06,\n",
       "        4.85086030e-06, 4.85086030e-06, 4.85086030e-06, 4.85086030e-06,\n",
       "        6.46781373e-06, 1.13186740e-05, 2.10203946e-05, 3.39560221e-05,\n",
       "        5.49764167e-05, 8.24646251e-05, 1.08335880e-04, 1.76247924e-04,\n",
       "        3.28241547e-04, 6.87205209e-04, 3.16437787e-03, 9.47657600e-01,\n",
       "        9.95755497e-01, 9.98148588e-01, 9.98855197e-01, 9.99217395e-01,\n",
       "        9.99427598e-01, 9.99600613e-01, 9.99715416e-01, 9.99794647e-01,\n",
       "        9.99844772e-01, 9.99883579e-01, 9.99909451e-01, 9.99917535e-01,\n",
       "        9.99928854e-01, 9.99932088e-01, 9.99941790e-01, 9.99949874e-01,\n",
       "        9.99961193e-01, 9.99967661e-01, 9.99974129e-01, 9.99977363e-01,\n",
       "        9.99978980e-01, 9.99980597e-01, 9.99982214e-01, 9.99985447e-01,\n",
       "        9.99987064e-01, 9.99988681e-01, 9.99988681e-01, 9.99988681e-01,\n",
       "        9.99990298e-01, 9.99990298e-01, 9.99991915e-01, 9.99993532e-01,\n",
       "        9.99993532e-01, 9.99993532e-01, 9.99993532e-01, 9.99993532e-01,\n",
       "        9.99995149e-01, 9.99995149e-01, 9.99995149e-01, 9.99995149e-01,\n",
       "        9.99996766e-01, 9.99996766e-01, 9.99996766e-01, 9.99996766e-01,\n",
       "        9.99996766e-01, 9.99996766e-01, 9.99996766e-01, 9.99996766e-01,\n",
       "        9.99996766e-01, 9.99996766e-01, 9.99996766e-01, 9.99996766e-01,\n",
       "        9.99996766e-01, 9.99996766e-01, 9.99996766e-01, 9.99996766e-01,\n",
       "        9.99996766e-01, 9.99996766e-01, 9.99996766e-01, 9.99996766e-01,\n",
       "        9.99996766e-01, 9.99996766e-01, 9.99996766e-01, 9.99996766e-01,\n",
       "        9.99996766e-01, 9.99996766e-01, 9.99996766e-01, 9.99998383e-01,\n",
       "        9.99998383e-01, 9.99998383e-01, 9.99998383e-01, 9.99998383e-01,\n",
       "        9.99998383e-01, 9.99998383e-01, 9.99998383e-01, 1.00000000e+00]),\n",
       " array([-33.30547317, -31.9077468 , -30.51002044, -29.11229407,\n",
       "        -27.7145677 , -26.31684134, -24.91911497, -23.52138861,\n",
       "        -22.12366224, -20.72593587, -19.32820951, -17.93048314,\n",
       "        -16.53275678, -15.13503041, -13.73730404, -12.33957768,\n",
       "        -10.94185131,  -9.54412495,  -8.14639858,  -6.74867221,\n",
       "         -5.35094585,  -3.95321948,  -2.55549312,  -1.15776675,\n",
       "          0.23995962,   1.63768598,   3.03541235,   4.43313872,\n",
       "          5.83086508,   7.22859145,   8.62631781,  10.02404418,\n",
       "         11.42177055,  12.81949691,  14.21722328,  15.61494964,\n",
       "         17.01267601,  18.41040238,  19.80812874,  21.20585511,\n",
       "         22.60358147,  24.00130784,  25.39903421,  26.79676057,\n",
       "         28.19448694,  29.5922133 ,  30.98993967,  32.38766604,\n",
       "         33.7853924 ,  35.18311877,  36.58084513,  37.9785715 ,\n",
       "         39.37629787,  40.77402423,  42.1717506 ,  43.56947696,\n",
       "         44.96720333,  46.3649297 ,  47.76265606,  49.16038243,\n",
       "         50.55810879,  51.95583516,  53.35356153,  54.75128789,\n",
       "         56.14901426,  57.54674062,  58.94446699,  60.34219336,\n",
       "         61.73991972,  63.13764609,  64.53537245,  65.93309882,\n",
       "         67.33082519,  68.72855155,  70.12627792,  71.52400428,\n",
       "         72.92173065,  74.31945702,  75.71718338,  77.11490975,\n",
       "         78.51263612,  79.91036248,  81.30808885,  82.70581521,\n",
       "         84.10354158,  85.50126795,  86.89899431,  88.29672068,\n",
       "         89.69444704,  91.09217341,  92.48989978,  93.88762614,\n",
       "         95.28535251,  96.68307887,  98.08080524,  99.47853161,\n",
       "        100.87625797, 102.27398434, 103.6717107 , 105.06943707,\n",
       "        106.46716344]),\n",
       " [<matplotlib.patches.Polygon at 0x7f882f495670>])"
      ]
     },
     "execution_count": 72,
     "metadata": {},
     "output_type": "execute_result"
    },
    {
     "data": {
      "image/png": "[encoded data removed]",
      "text/plain": [
       "<Figure size 432x288 with 1 Axes>"
      ]
     },
     "metadata": {
      "needs_background": "light"
     },
     "output_type": "display_data"
    }
   ],
   "source": [
    "plt.hist(expr0['ICA-006'], density=True, cumulative=True, bins=100, histtype='step', log='y')\n",
    "plt.hist(expr1['ICA-006'], density=True, cumulative=True, bins=100, histtype='step', log='y')"
   ]
  },
  {
   "cell_type": "code",
   "execution_count": 73,
   "id": "fifty-gregory",
   "metadata": {},
   "outputs": [
    {
     "data": {
      "text/plain": [
       "KstestResult(statistic=0.0015087552409712435, pvalue=0.4824311204069285)"
      ]
     },
     "execution_count": 73,
     "metadata": {},
     "output_type": "execute_result"
    }
   ],
   "source": [
    "# Even with the extremely large numbers, the p value shows no significant difference. \n",
    "# The statistic is very small.\n",
    "\n",
    "ks_2samp(expr0['ICA-006'], expr1['ICA-006'])"
   ]
  },
  {
   "cell_type": "code",
   "execution_count": 28,
   "id": "enhanced-fortune",
   "metadata": {},
   "outputs": [
    {
     "name": "stdout",
     "output_type": "stream",
     "text": [
      "Testing ICA-000\n",
      "Testing ICA-100\n",
      "Testing ICA-200\n",
      "Testing ICA-300\n",
      "Testing ICA-400\n"
     ]
    }
   ],
   "source": [
    "names = expr0.columns\n",
    "stats = []\n",
    "ps = []\n",
    "for i, col in enumerate(names):\n",
    "    if i % 100 == 0:\n",
    "        print(f'Testing {col}')\n",
    "    stat, pval = ks_2samp(expr0[col], expr1[col])\n",
    "    stats.append(stat)\n",
    "    ps.append(pval)\n"
   ]
  },
  {
   "cell_type": "code",
   "execution_count": 30,
   "id": "electric-coaching",
   "metadata": {},
   "outputs": [
    {
     "data": {
      "text/plain": [
       "[<matplotlib.lines.Line2D at 0x7f8837e98d90>]"
      ]
     },
     "execution_count": 30,
     "metadata": {},
     "output_type": "execute_result"
    },
    {
     "data": {
      "image/png": "[encoded data removed]",
      "text/plain": [
       "<Figure size 432x288 with 1 Axes>"
      ]
     },
     "metadata": {
      "needs_background": "light"
     },
     "output_type": "display_data"
    }
   ],
   "source": [
    "plt.plot(names, stats, 'o', alpha=0.5)\n",
    "# plt.plot(names, ps, 'o', alpha=0.5)"
   ]
  },
  {
   "cell_type": "code",
   "execution_count": 82,
   "id": "expensive-chancellor",
   "metadata": {},
   "outputs": [
    {
     "data": {
      "text/plain": [
       "IcaPhenotypeModel()"
      ]
     },
     "execution_count": 82,
     "metadata": {},
     "output_type": "execute_result"
    }
   ],
   "source": [
    "model"
   ]
  },
  {
   "cell_type": "code",
   "execution_count": 78,
   "id": "instructional-telling",
   "metadata": {},
   "outputs": [],
   "source": [
    "import inspect"
   ]
  },
  {
   "cell_type": "code",
   "execution_count": 83,
   "id": "moved-powell",
   "metadata": {},
   "outputs": [
    {
     "name": "stdout",
     "output_type": "stream",
     "text": [
      "    def transform(self, X):\n",
      "        \"\"\"Project the data in X onto the previously-learned phenotypes.\n",
      "\n",
      "        Arguments\n",
      "        ---------\n",
      "        X : pandas.DataFrame\n",
      "            Has one row per instance, one column per variable\n",
      "\n",
      "        Returns\n",
      "        -------\n",
      "        pandas.DataFrame\n",
      "            A pandas dataframe with rows corresponding to (and indexed the same\n",
      "            as) rows in X, and columns corresponding to learned phenotypes.\n",
      "            Each cell contains the amount of the given phenotype expressed by\n",
      "            the row of X.\n",
      "        \"\"\"\n",
      "\n",
      "        raw_expressions = pd.DataFrame(self.ica.transform(X.values),\n",
      "                                       index=X.index,\n",
      "                                       columns=self.phenotype_names)\n",
      "\n",
      "        scaled_expressions = self._scale_expressions(raw_expressions)\n",
      "        return scaled_expressions\n",
      "\n"
     ]
    }
   ],
   "source": [
    "print(inspect.getsource(model.transform))"
   ]
  },
  {
   "cell_type": "code",
   "execution_count": null,
   "id": "employed-location",
   "metadata": {},
   "outputs": [],
   "source": []
  }
 ],
 "metadata": {
  "kernelspec": {
   "display_name": "Python 3",
   "language": "python",
   "name": "python3"
  },
  "language_info": {
   "codemirror_mode": {
    "name": "ipython",
    "version": 3
   },
   "file_extension": ".py",
   "mimetype": "text/x-python",
   "name": "python",
   "nbconvert_exporter": "python",
   "pygments_lexer": "ipython3",
   "version": "3.9.1"
  }
 },
 "nbformat": 4,
 "nbformat_minor": 5
}
